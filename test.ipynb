{
 "cells": [
  {
   "cell_type": "code",
   "execution_count": 2,
   "metadata": {},
   "outputs": [
    {
     "ename": "NameError",
     "evalue": "name 'bot' is not defined",
     "output_type": "error",
     "traceback": [
      "\u001b[0;31m---------------------------------------------------------------------------\u001b[0m",
      "\u001b[0;31mNameError\u001b[0m                                 Traceback (most recent call last)",
      "Cell \u001b[0;32mIn[2], line 1\u001b[0m\n\u001b[0;32m----> 1\u001b[0m \u001b[39m@bot\u001b[39m\u001b[39m.\u001b[39mmessage_handler(content_types\u001b[39m=\u001b[39m[\u001b[39m'\u001b[39m\u001b[39mtext\u001b[39m\u001b[39m'\u001b[39m])\n\u001b[1;32m      2\u001b[0m \u001b[39mdef\u001b[39;00m \u001b[39mget_text_messages\u001b[39m(message):\n\u001b[1;32m      3\u001b[0m   \u001b[39mif\u001b[39;00m message\u001b[39m.\u001b[39mtext \u001b[39m==\u001b[39m \u001b[39m\"\u001b[39m\u001b[39mПривет\u001b[39m\u001b[39m\"\u001b[39m:\n\u001b[1;32m      4\u001b[0m       bot\u001b[39m.\u001b[39msend_message(message\u001b[39m.\u001b[39mfrom_user\u001b[39m.\u001b[39mid, \u001b[39m\"\u001b[39m\u001b[39mПривет, сейчас я расскажу тебе гороскоп на сегодня.\u001b[39m\u001b[39m\"\u001b[39m)\n",
      "\u001b[0;31mNameError\u001b[0m: name 'bot' is not defined"
     ]
    }
   ],
   "source": [
    "@bot.message_handler(content_types=['text'])\n",
    "def get_text_messages(message):\n",
    "  if message.text == \"Привет\":\n",
    "      bot.send_message(message.from_user.id, \"Привет, сейчас я расскажу тебе гороскоп на сегодня.\")\n",
    "  elif message.text == \"/help\":\n",
    "      bot.send_message(message.from_user.id, \"Напиши Привет\")\n",
    "  else:\n",
    "      bot.send_message(message.from_user.id, \"Я тебя не понимаю. Напиши /help.\")"
   ]
  }
 ],
 "metadata": {
  "kernelspec": {
   "display_name": "Python 3",
   "language": "python",
   "name": "python3"
  },
  "language_info": {
   "codemirror_mode": {
    "name": "ipython",
    "version": 3
   },
   "file_extension": ".py",
   "mimetype": "text/x-python",
   "name": "python",
   "nbconvert_exporter": "python",
   "pygments_lexer": "ipython3",
   "version": "3.10.4"
  },
  "orig_nbformat": 4,
  "vscode": {
   "interpreter": {
    "hash": "3ad933181bd8a04b432d3370b9dc3b0662ad032c4dfaa4e4f1596c548f763858"
   }
  }
 },
 "nbformat": 4,
 "nbformat_minor": 2
}
